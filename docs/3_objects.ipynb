{
 "cells": [
  {
   "cell_type": "markdown",
   "metadata": {},
   "source": [
    "# 对象详解\n",
    "dv文件可分为四个层次：工程、音轨、区段、音符。dvfile模块为它们分别建立了类，并提供一些函数操作。\n"
   ]
  },
  {
   "cell_type": "code",
   "execution_count": 1,
   "metadata": {},
   "outputs": [],
   "source": [
    "import dvfile\n",
    "d=dvfile.opendv(\"zhiyaopingfan.dv\")"
   ]
  },
  {
   "cell_type": "markdown",
   "metadata": {},
   "source": [
    "## 几个基本概念\n",
    "tick：是dv文件中的时间单位，480tick为一个四分音符，与midi标准相同。\n",
    "\n",
    "## 工程对象 Dvfile\n",
    "一个Dvfile对象储存一个dv文件。用opendv函数打开dv文件后返回的便是Dvfile对象。\n",
    "\n",
    "注意Dvfile与dvfile的区别：全小写的dvfile是模块名，首字母大写的Dvfile是dv工程对象。\n",
    "\n",
    "Dvfile包含以下属性：\n",
    "- track：音轨列表，每一项是一个Dvtrack对象"
   ]
  },
  {
   "cell_type": "code",
   "execution_count": 2,
   "metadata": {},
   "outputs": [
    {
     "data": {
      "text/plain": [
       "[<dvfile.Dvtrack at 0x1b4315d5208>]"
      ]
     },
     "execution_count": 2,
     "metadata": {},
     "output_type": "execute_result"
    }
   ],
   "source": [
    "d.track"
   ]
  },
  {
   "cell_type": "markdown",
   "metadata": {},
   "source": [
    "- tempo：曲速标记列表。其中每个曲速标记是元组，元组第一项为曲速标记所处位置（int，单位tick），第二项为该曲速标记后的曲速（float）"
   ]
  },
  {
   "cell_type": "code",
   "execution_count": 3,
   "metadata": {},
   "outputs": [
    {
     "data": {
      "text/plain": [
       "[(0, 174.0)]"
      ]
     },
     "execution_count": 3,
     "metadata": {},
     "output_type": "execute_result"
    }
   ],
   "source": [
    "d.tempo   #位置为0tick,曲速为每分钟174拍"
   ]
  },
  {
   "cell_type": "markdown",
   "metadata": {},
   "source": [
    "大部分歌曲为非变速曲，全曲只有一个曲速标记。对于这些歌曲，可以用以下方式获取曲速值"
   ]
  },
  {
   "cell_type": "code",
   "execution_count": 4,
   "metadata": {},
   "outputs": [
    {
     "data": {
      "text/plain": [
       "174.0"
      ]
     },
     "execution_count": 4,
     "metadata": {},
     "output_type": "execute_result"
    }
   ],
   "source": [
    "d.tempo[0][1]"
   ]
  },
  {
   "cell_type": "markdown",
   "metadata": {},
   "source": [
    "- beats：节拍标记列表。其中每个节拍标记是元组，元组第一项为节拍标记所处小节，第二项为分子（每小节拍数，int），第三项为分母（x分音符为1拍，int，只能为1,2,4,8,16,32）"
   ]
  },
  {
   "cell_type": "code",
   "execution_count": 5,
   "metadata": {},
   "outputs": [
    {
     "data": {
      "text/plain": [
       "[(-3, 3, 4)]"
      ]
     },
     "execution_count": 5,
     "metadata": {},
     "output_type": "execute_result"
    }
   ],
   "source": [
    "d.beats   #位置为-3小节，节拍为3/4"
   ]
  },
  {
   "cell_type": "markdown",
   "metadata": {},
   "source": [
    "- inst：伴奏音轨列表，每一项是一个Dvinst对象"
   ]
  },
  {
   "cell_type": "markdown",
   "metadata": {},
   "source": [
    "## 音轨对象 Dvtrack\n",
    "Dvtrack表示一个dv合成音轨。"
   ]
  },
  {
   "cell_type": "code",
   "execution_count": 6,
   "metadata": {},
   "outputs": [
    {
     "data": {
      "text/plain": [
       "dvfile.Dvtrack"
      ]
     },
     "execution_count": 6,
     "metadata": {},
     "output_type": "execute_result"
    }
   ],
   "source": [
    "tr=d.track[0]\n",
    "type(tr)"
   ]
  },
  {
   "cell_type": "markdown",
   "metadata": {},
   "source": [
    "Dvtrack包含以下属性：\n",
    "- segment：区段列表，每一项是一个Dvsegment对象"
   ]
  },
  {
   "cell_type": "code",
   "execution_count": 7,
   "metadata": {},
   "outputs": [
    {
     "data": {
      "text/plain": [
       "[<dvfile.Dvsegment at 0x1b4315d5188>]"
      ]
     },
     "execution_count": 7,
     "metadata": {},
     "output_type": "execute_result"
    }
   ],
   "source": [
    "tr.segment"
   ]
  },
  {
   "cell_type": "markdown",
   "metadata": {},
   "source": [
    "- name：音轨名称，str\n",
    "- volume：音量，int，取值范围[0,100]\n",
    "- balance：左右声道平衡，int，取值范围[-50,50]\n",
    "- mute：静音，bool\n",
    "- solo：独奏，bool"
   ]
  },
  {
   "cell_type": "code",
   "execution_count": 8,
   "metadata": {},
   "outputs": [
    {
     "name": "stdout",
     "output_type": "stream",
     "text": [
      "歌声-音轨 100 0 True False\n"
     ]
    }
   ],
   "source": [
    "print(tr.name,tr.volume,tr.balance,tr.mute,tr.solo)"
   ]
  },
  {
   "cell_type": "markdown",
   "metadata": {},
   "source": [
    "## 区段对象 Dvsegment\n",
    "Dvsegment表示一个dv区段"
   ]
  },
  {
   "cell_type": "code",
   "execution_count": 9,
   "metadata": {},
   "outputs": [
    {
     "data": {
      "text/plain": [
       "dvfile.Dvsegment"
      ]
     },
     "execution_count": 9,
     "metadata": {},
     "output_type": "execute_result"
    }
   ],
   "source": [
    "seg=tr.segment[0]\n",
    "type(seg)"
   ]
  },
  {
   "cell_type": "markdown",
   "metadata": {},
   "source": [
    "Dvsegment包含以下属性：\n",
    "- note：音符列表，每一项是一个Dvnote对象"
   ]
  },
  {
   "cell_type": "code",
   "execution_count": 10,
   "metadata": {
    "collapsed": true,
    "jupyter": {
     "outputs_hidden": true
    }
   },
   "outputs": [
    {
     "data": {
      "text/plain": [
       "[<dvfile.Dvnote at 0x1b4315b9288>,\n",
       " <dvfile.Dvnote at 0x1b4315b9088>,\n",
       " <dvfile.Dvnote at 0x1b4315b9208>,\n",
       " <dvfile.Dvnote at 0x1b4315b1f48>,\n",
       " <dvfile.Dvnote at 0x1b4315b1fc8>,\n",
       " <dvfile.Dvnote at 0x1b4315b9508>,\n",
       " <dvfile.Dvnote at 0x1b4315b9588>,\n",
       " <dvfile.Dvnote at 0x1b4315b9608>,\n",
       " <dvfile.Dvnote at 0x1b4315b9688>,\n",
       " <dvfile.Dvnote at 0x1b4315b9748>,\n",
       " <dvfile.Dvnote at 0x1b4315b97c8>,\n",
       " <dvfile.Dvnote at 0x1b4315b9848>,\n",
       " <dvfile.Dvnote at 0x1b4315b98c8>,\n",
       " <dvfile.Dvnote at 0x1b4315b9908>,\n",
       " <dvfile.Dvnote at 0x1b4315b9988>,\n",
       " <dvfile.Dvnote at 0x1b4315b9a08>,\n",
       " <dvfile.Dvnote at 0x1b4315b9a88>,\n",
       " <dvfile.Dvnote at 0x1b4315b9b08>,\n",
       " <dvfile.Dvnote at 0x1b4315b9b88>,\n",
       " <dvfile.Dvnote at 0x1b4315b9c08>,\n",
       " <dvfile.Dvnote at 0x1b4315b9c88>,\n",
       " <dvfile.Dvnote at 0x1b4315b9d08>,\n",
       " <dvfile.Dvnote at 0x1b4315b9d88>,\n",
       " <dvfile.Dvnote at 0x1b4315b9e08>,\n",
       " <dvfile.Dvnote at 0x1b4315b9e88>,\n",
       " <dvfile.Dvnote at 0x1b4315b9f08>,\n",
       " <dvfile.Dvnote at 0x1b4315b9f88>,\n",
       " <dvfile.Dvnote at 0x1b4315c0048>,\n",
       " <dvfile.Dvnote at 0x1b4315c00c8>,\n",
       " <dvfile.Dvnote at 0x1b4315c0148>,\n",
       " <dvfile.Dvnote at 0x1b4315c01c8>,\n",
       " <dvfile.Dvnote at 0x1b4315c0248>,\n",
       " <dvfile.Dvnote at 0x1b4315c02c8>,\n",
       " <dvfile.Dvnote at 0x1b4315c0348>,\n",
       " <dvfile.Dvnote at 0x1b4315c03c8>,\n",
       " <dvfile.Dvnote at 0x1b4315c0448>,\n",
       " <dvfile.Dvnote at 0x1b4315c04c8>,\n",
       " <dvfile.Dvnote at 0x1b4315c0548>,\n",
       " <dvfile.Dvnote at 0x1b4315c05c8>,\n",
       " <dvfile.Dvnote at 0x1b4315c0648>,\n",
       " <dvfile.Dvnote at 0x1b4315c06c8>,\n",
       " <dvfile.Dvnote at 0x1b4315c0748>,\n",
       " <dvfile.Dvnote at 0x1b4315c07c8>,\n",
       " <dvfile.Dvnote at 0x1b4315c0848>,\n",
       " <dvfile.Dvnote at 0x1b4315c08c8>,\n",
       " <dvfile.Dvnote at 0x1b4315c0948>,\n",
       " <dvfile.Dvnote at 0x1b4315c09c8>,\n",
       " <dvfile.Dvnote at 0x1b4315c0a48>,\n",
       " <dvfile.Dvnote at 0x1b4315c0ac8>,\n",
       " <dvfile.Dvnote at 0x1b4315c0b48>,\n",
       " <dvfile.Dvnote at 0x1b4315c0bc8>,\n",
       " <dvfile.Dvnote at 0x1b4315c0c48>,\n",
       " <dvfile.Dvnote at 0x1b4315c0cc8>,\n",
       " <dvfile.Dvnote at 0x1b4315c0d48>,\n",
       " <dvfile.Dvnote at 0x1b4315c0dc8>,\n",
       " <dvfile.Dvnote at 0x1b4315c0e48>,\n",
       " <dvfile.Dvnote at 0x1b4315c0ec8>,\n",
       " <dvfile.Dvnote at 0x1b4315c0f48>,\n",
       " <dvfile.Dvnote at 0x1b4315c0fc8>,\n",
       " <dvfile.Dvnote at 0x1b4315c7088>,\n",
       " <dvfile.Dvnote at 0x1b4315c7108>,\n",
       " <dvfile.Dvnote at 0x1b4315c7188>,\n",
       " <dvfile.Dvnote at 0x1b4315c7208>,\n",
       " <dvfile.Dvnote at 0x1b4315c7288>,\n",
       " <dvfile.Dvnote at 0x1b4315c7308>,\n",
       " <dvfile.Dvnote at 0x1b4315c7388>,\n",
       " <dvfile.Dvnote at 0x1b4315c7408>,\n",
       " <dvfile.Dvnote at 0x1b4315c7488>,\n",
       " <dvfile.Dvnote at 0x1b4315c7508>,\n",
       " <dvfile.Dvnote at 0x1b4315c7588>,\n",
       " <dvfile.Dvnote at 0x1b4315c7608>,\n",
       " <dvfile.Dvnote at 0x1b4315c7688>,\n",
       " <dvfile.Dvnote at 0x1b4315c7708>,\n",
       " <dvfile.Dvnote at 0x1b4315c7788>,\n",
       " <dvfile.Dvnote at 0x1b4315c7808>,\n",
       " <dvfile.Dvnote at 0x1b4315c7888>,\n",
       " <dvfile.Dvnote at 0x1b4315c7908>,\n",
       " <dvfile.Dvnote at 0x1b4315c7988>,\n",
       " <dvfile.Dvnote at 0x1b4315c7a08>,\n",
       " <dvfile.Dvnote at 0x1b4315c7a88>,\n",
       " <dvfile.Dvnote at 0x1b4315c7b08>,\n",
       " <dvfile.Dvnote at 0x1b4315c7b88>,\n",
       " <dvfile.Dvnote at 0x1b4315c7c08>,\n",
       " <dvfile.Dvnote at 0x1b4315c7c88>,\n",
       " <dvfile.Dvnote at 0x1b4315c7d08>,\n",
       " <dvfile.Dvnote at 0x1b4315c7d88>,\n",
       " <dvfile.Dvnote at 0x1b4315c7e08>,\n",
       " <dvfile.Dvnote at 0x1b4315c7e88>,\n",
       " <dvfile.Dvnote at 0x1b4315c7f08>,\n",
       " <dvfile.Dvnote at 0x1b4315c7f88>,\n",
       " <dvfile.Dvnote at 0x1b4315ce048>,\n",
       " <dvfile.Dvnote at 0x1b4315ce0c8>,\n",
       " <dvfile.Dvnote at 0x1b4315ce148>,\n",
       " <dvfile.Dvnote at 0x1b4315ce1c8>,\n",
       " <dvfile.Dvnote at 0x1b4315ce248>,\n",
       " <dvfile.Dvnote at 0x1b4315ce2c8>,\n",
       " <dvfile.Dvnote at 0x1b4315ce348>,\n",
       " <dvfile.Dvnote at 0x1b4315ce3c8>,\n",
       " <dvfile.Dvnote at 0x1b4315ce448>,\n",
       " <dvfile.Dvnote at 0x1b4315ce4c8>,\n",
       " <dvfile.Dvnote at 0x1b4315ce548>,\n",
       " <dvfile.Dvnote at 0x1b4315ce5c8>,\n",
       " <dvfile.Dvnote at 0x1b4315ce648>,\n",
       " <dvfile.Dvnote at 0x1b4315ce6c8>,\n",
       " <dvfile.Dvnote at 0x1b4315ce748>,\n",
       " <dvfile.Dvnote at 0x1b4315ce7c8>,\n",
       " <dvfile.Dvnote at 0x1b4315ce848>,\n",
       " <dvfile.Dvnote at 0x1b4315ce8c8>,\n",
       " <dvfile.Dvnote at 0x1b4315ce948>,\n",
       " <dvfile.Dvnote at 0x1b4315ce9c8>,\n",
       " <dvfile.Dvnote at 0x1b4315cea48>,\n",
       " <dvfile.Dvnote at 0x1b4315ceac8>,\n",
       " <dvfile.Dvnote at 0x1b4315ceb48>,\n",
       " <dvfile.Dvnote at 0x1b4315cebc8>,\n",
       " <dvfile.Dvnote at 0x1b4315cec48>,\n",
       " <dvfile.Dvnote at 0x1b4315cecc8>,\n",
       " <dvfile.Dvnote at 0x1b4315ced48>,\n",
       " <dvfile.Dvnote at 0x1b4315cedc8>,\n",
       " <dvfile.Dvnote at 0x1b4315cee48>,\n",
       " <dvfile.Dvnote at 0x1b4315ceec8>,\n",
       " <dvfile.Dvnote at 0x1b4315cef48>]"
      ]
     },
     "execution_count": 10,
     "metadata": {},
     "output_type": "execute_result"
    }
   ],
   "source": [
    "seg.note"
   ]
  },
  {
   "cell_type": "markdown",
   "metadata": {},
   "source": [
    "- start：起点tick，从-3小节算起，int\n",
    "- length：长度tick，int\n",
    "- name：区段名，str\n",
    "- singer：音源名，str"
   ]
  },
  {
   "cell_type": "code",
   "execution_count": 11,
   "metadata": {},
   "outputs": [
    {
     "name": "stdout",
     "output_type": "stream",
     "text": [
      "5760 111360 新区段 飞梦_CHN_Normal_Build006\n"
     ]
    }
   ],
   "source": [
    "print(seg.start,seg.length,seg.name,seg.singer)"
   ]
  },
  {
   "cell_type": "markdown",
   "metadata": {},
   "source": [
    "    以下是区段线性参数，将会在以后详细介绍\n",
    "- vol：音量Volume，取值范围[0,256]，numpy.array([[x,y]])\n",
    "- pit：音调Pitch，以音分为单位，转换成midi标准的100倍，-1表示按默认音调，numpy.array([[x,y]])\n",
    "- bre：气声Breathness，取值范围[0,256]，numpy.array([[x,y]])\n",
    "- gen：声线（性别）Gender，取值范围[0,256]，numpy.array([[x,y]])"
   ]
  },
  {
   "cell_type": "markdown",
   "metadata": {},
   "source": [
    "## 音符对象 Dvnote\n",
    "Dvnote表示一个dv音符"
   ]
  },
  {
   "cell_type": "code",
   "execution_count": 12,
   "metadata": {},
   "outputs": [],
   "source": [
    "n=seg.note[0]"
   ]
  },
  {
   "cell_type": "markdown",
   "metadata": {},
   "source": [
    "Dvnote包含以下属性"
   ]
  },
  {
   "cell_type": "markdown",
   "metadata": {},
   "source": [
    "    重要属性\n",
    "- start:起点tick，相对于区段开头的位置，int"
   ]
  },
  {
   "cell_type": "code",
   "execution_count": 13,
   "metadata": {},
   "outputs": [
    {
     "data": {
      "text/plain": [
       "7200"
      ]
     },
     "execution_count": 13,
     "metadata": {},
     "output_type": "execute_result"
    }
   ],
   "source": [
    "n.start"
   ]
  },
  {
   "cell_type": "markdown",
   "metadata": {},
   "source": [
    "- length:长度tick，int"
   ]
  },
  {
   "cell_type": "code",
   "execution_count": 14,
   "metadata": {},
   "outputs": [
    {
     "data": {
      "text/plain": [
       "480"
      ]
     },
     "execution_count": 14,
     "metadata": {},
     "output_type": "execute_result"
    }
   ],
   "source": [
    "n.length"
   ]
  },
  {
   "cell_type": "markdown",
   "metadata": {},
   "source": [
    "- notenum:音高，与midi相同，即C4为60，音高越高，数值越大，int"
   ]
  },
  {
   "cell_type": "code",
   "execution_count": 15,
   "metadata": {},
   "outputs": [
    {
     "data": {
      "text/plain": [
       "58"
      ]
     },
     "execution_count": 15,
     "metadata": {},
     "output_type": "execute_result"
    }
   ],
   "source": [
    "n.notenum"
   ]
  },
  {
   "cell_type": "markdown",
   "metadata": {},
   "source": [
    "- hanzi:歌词汉字，str"
   ]
  },
  {
   "cell_type": "code",
   "execution_count": 16,
   "metadata": {},
   "outputs": [
    {
     "data": {
      "text/plain": [
       "'也'"
      ]
     },
     "execution_count": 16,
     "metadata": {},
     "output_type": "execute_result"
    }
   ],
   "source": [
    "n.hanzi"
   ]
  },
  {
   "cell_type": "markdown",
   "metadata": {},
   "source": [
    "- pinyin:歌词拼音，str"
   ]
  },
  {
   "cell_type": "code",
   "execution_count": 17,
   "metadata": {},
   "outputs": [
    {
     "data": {
      "text/plain": [
       "'ye'"
      ]
     },
     "execution_count": 17,
     "metadata": {},
     "output_type": "execute_result"
    }
   ],
   "source": [
    "n.pinyin"
   ]
  },
  {
   "cell_type": "markdown",
   "metadata": {},
   "source": [
    "    其他属性\n",
    "- benlen:弯曲长度，int\n",
    "- bendep:弯曲深度，int\n",
    "- porhead:头部滑音长度，int\n",
    "- portail:尾部滑音长度，int\n",
    "- timbre：采样音阶，-1表示跟随音高，0表示T1，1表示T2，以此类推，int\n",
    "- viblen:颤音长度\n",
    "- vibamp:颤音幅度曲线，numpy.array([[x,y]])\n",
    "- vibfre:颤音速度曲线，numpy.array([[x,y]])\n",
    "- vibp:渲染出的颤音音高曲线，numpy.array([[x,y]])，单位：（毫秒，音分），每10ms采样一次\n",
    "- crolrc:交叉拼音，str\n",
    "- crotim:交叉音阶，int\n",
    "\n",
    "## 例子\n",
    "以下程序将工程文件中的所有音符向上移动一个半音"
   ]
  },
  {
   "cell_type": "code",
   "execution_count": 18,
   "metadata": {},
   "outputs": [],
   "source": [
    "import dvfile\n",
    "d=dvfile.opendv(\"zhiyaopingfan.dv\")\n",
    "for tr in d.track:#遍历音轨\n",
    "    for seg in tr.segment:#遍历区段\n",
    "        for n in seg.note:#遍历音符\n",
    "            n.notenum+=1\n",
    "d.save(\"zhiyaopingfan3.dv\")"
   ]
  },
  {
   "cell_type": "code",
   "execution_count": null,
   "metadata": {},
   "outputs": [],
   "source": []
  }
 ],
 "metadata": {
  "kernelspec": {
   "display_name": "Python 3",
   "language": "python",
   "name": "python3"
  },
  "language_info": {
   "codemirror_mode": {
    "name": "ipython",
    "version": 3
   },
   "file_extension": ".py",
   "mimetype": "text/x-python",
   "name": "python",
   "nbconvert_exporter": "python",
   "pygments_lexer": "ipython3",
   "version": "3.7.6"
  }
 },
 "nbformat": 4,
 "nbformat_minor": 4
}
